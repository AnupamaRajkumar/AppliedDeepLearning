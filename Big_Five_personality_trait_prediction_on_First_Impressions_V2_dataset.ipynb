{
  "nbformat": 4,
  "nbformat_minor": 0,
  "metadata": {
    "colab": {
      "name": "Assignment 2/D -- Big Five personality trait prediction on First Impressions V2 dataset.ipynb",
      "provenance": [],
      "collapsed_sections": [],
      "include_colab_link": true
    },
    "kernelspec": {
      "name": "python3",
      "display_name": "Python 3"
    }
  },
  "cells": [
    {
      "cell_type": "markdown",
      "metadata": {
        "id": "view-in-github",
        "colab_type": "text"
      },
      "source": [
        "<a href=\"https://colab.research.google.com/github/AnupamaRajkumar/AppliedDeepLearning/blob/master/Big_Five_personality_trait_prediction_on_First_Impressions_V2_dataset.ipynb\" target=\"_parent\"><img src=\"https://colab.research.google.com/assets/colab-badge.svg\" alt=\"Open In Colab\"/></a>"
      ]
    },
    {
      "cell_type": "markdown",
      "metadata": {
        "id": "Wx1HWNSr5a-H"
      },
      "source": [
        "\n",
        "# Assignment 2/D\n",
        "**Disclaimer: Only for ADL/AML students!**\n",
        "\n",
        "### General information\n",
        "**You have to solve all tasks to pass!**\n",
        "\n",
        "Grade is calculated by the day of the last submission, but you will only get it after you've succesfully presented it. \n",
        "\n",
        "*Deadlines and grades:* \n",
        "  * 2020.10.27 - 2020.11.24 ==> 5\n",
        "  * 2020.11.25 - 2020.12.01 ==> 4\n",
        "  * 2020.12.02 - 2020.12.08 ==> 3\n",
        "  * 2020.12.09 - 2020.12.15 ==> 2\n",
        "  * 2020.12.16 or later ==> 1\n",
        "\n",
        "You can **use only these** 3rd party **packages:** `cv2, keras, matplotlib, numpy, pandas, sklearn, skimage, tensorflow, librosa`.\n",
        "\n",
        "### Description\n",
        "In this assignment you have to build a multimodal deep neural network for personality trait detection using tf.keras. You have to work with the First Impressions V2 dataset, which contains short (~15 seconds long) video clip recordings of speakers talking to the camera.  We will extract and combine RGB frames with MFCCs and utilize both video and audio information sources to achieve a better prediction.\n",
        "\n",
        "### Use GPU\n",
        "Runtime -> Change runtime type\n",
        "\n",
        "At Hardware accelerator select  GPU then save it.  \n",
        "\n",
        "### Useful shortcuts\n",
        "* Run selected cell: *Ctrl + Enter*\n",
        "* Insert cell below: *Ctrl + M B*\n",
        "* Insert cell above: *Ctrl + M A*\n",
        "* Convert to text: *Ctrl + M M*\n",
        "* Split at cursor: *Ctrl + M -*\n",
        "* Autocomplete: *Ctrl + Space* or *Tab*\n",
        "* Move selected cells up: *Ctrl + M J*\n",
        "* Move selected cells down: *Ctrl + M K*\n",
        "* Delete selected cells: *Ctrl + M D*\n",
        "\n",
        "If you have any question, feel free to ask.\n",
        "fodorad201@gmail.com"
      ]
    },
    {
      "cell_type": "markdown",
      "metadata": {
        "id": "Qwfba0if-93A"
      },
      "source": [
        "## Prepare dataset\n",
        "\n",
        "* Download the Chalearn: First Impressions V2 dataset. Here you can find more information about the dataset: http://chalearnlap.cvc.uab.es/dataset/24/description/\n",
        "The dataset is available here as well: http://nipg1.inf.elte.hu:8765\n",
        "Big5.zip contains all of the mp4 clips, and the ground truth annotations. The samples are mostly 15 seconds long video clips, with one speaker talking to the camera. There are five personality traits: Extraversion, Agreeableness, Conscientiousness, Neuroticism and Openness. All target variables have continous values between [0, 1].\n",
        "(regression task)\n",
        "\n",
        "* Preprocess the data.\n",
        "  * Audio representation: \n",
        "    * Extract the audio from the video. (Tips: use ffmpeg.)\n",
        "    * Extract 24 Mel Frequency Cepstral Coefficients from the audio. (Tips: use librosa.)\n",
        "    * Calculate the mean number of (spectral) frames in the dataset.\n",
        "    * Standardize the MFCCs sample-wise. (Tips: zero mean and unit variance)\n",
        "    * Use pre-padding (Note: with 0, which is also the mean after standardization) to unify the length of the samples.\n",
        "    * Audio representation per sample is a tensor with shape (N,M,1) where N is the number of coefficients (e.g. 24) and M is the number of audio frames.\n",
        "  * Visual representation:\n",
        "    * Extract the frames from the video. (Tips: use ffmpeg.)\n",
        "    * Resize the images to 140x248 to preserve the aspect ratio. (Tips: You can use lower/higher resolution as well.)\n",
        "    * Subsample the frames to reduce complexity (6 frames/video is enough).\n",
        "    * Use random crop 128x128 for training, and center crop for the validation and test sets.\n",
        "    * Apply other standard data augmentation techniques, and scaling [0, 1].\n",
        "    * Video representation per sample is a tensor with shape (F,H,W,3) where F is the number of frames (e.g. 6), H and W are the spatial dimensions (e.g. 128).\n",
        "  * Ground truth labels:\n",
        "    * There are 5 targets. Plot the distributions of the 5 personality traits.\n",
        "    * You have to deal with an enhanced 'regression-to-the-mean problem'.\n",
        "\n",
        "* Use the original dataset train-valid-test splits defined by the authors.\n",
        "* Create a generator, which iterates over the audio and visual representations. (Note: the generator should produce a tuple ([x0, x1], y), where x0 is the audio, x1 is the video representation, y is the ground truth. (Don't forget: y is 5x1 vector for every sample.)\n",
        "* Print the size of each set, plot 3 samples: frames, MFCCs and their corresponding personality trait annotations. (Tips: use librosa for plotting MFCCs)\n",
        "\n",
        "Alternative considerations. They may require additional steps:\n",
        "* You can use Mean MFCCs vectors to further reduce complexity. Input of the corresponding subnetwork should be modified to accept inputs with shape (N, 1).\n",
        "* You can use log-melspectrograms as well. Note, that raw spectrograms are displaying power. Mel scale should be applied on the frequency axis, and log on the third dimension (decibels are expected). You can use librosa for that (librosa.feature.melspectrogram, librosa.power_to_db)"
      ]
    },
    {
      "cell_type": "markdown",
      "metadata": {
        "id": "TuONHKhuhpD2"
      },
      "source": [
        "## Create Model\n",
        "\n",
        "* Create the audio subnetwork\n",
        "  * Choose one of these:\n",
        "    * BLSTM (64 units, return sequences) + Dropout 0.5 + BLSTM (64 units) + Dense (128 units, ReLU)\n",
        "    * Conv1D (32 filters, 3x3) + BatchNorm + ReLU, Conv1D (32 filters, 3x3) + BatchNorm + ReLU, Conv1D (64 filters, 3x3) + BatchNorm + ReLU, LSTM (64 units) + Dropout 0.5 + Dense (128 units, ReLU)\n",
        "    * Conv2D (32 filters, 3x3) + BatchNorm + ReLU, MaxPool2D, Conv2D (32 filters, 3x3) + BatchNorm + ReLU, MaxPool2D, Flatten, Dense (128 units, ReLU)\n",
        "  * You can try other configurations, better submodels. Have a reason for your choice!\n",
        "* Create the visual subnetwork\n",
        "  * Choose a visual backbone, which is applied frame-wise (Tips: use TimeDistributed Layer for this):\n",
        "    * VGG-like architecture (Conv2D + MaxPooling blocks)\n",
        "    * ResNet50 / Inception architecture (Residual blocks, Inception cells)\n",
        "  * Apply Max pooling over the time dimension to reduce complexity (or use GRU or LSTM for better temporal modelling)\n",
        "  * You can try other configurations, better submodels (like 3D convolution nets). Have a reason for your choice!\n",
        "* Model fusion:\n",
        "  * Concatenate the final hidden representations of the audio and visual subnetwork.\n",
        "  * Apply fully connected layers on it (256 units, ReLU), then an another dense layer (5 units, linear). (Tips: you can try sigmoid to squeeze the output between [0,1]. However, you might struggle with the 'regression-to-the-mean' problem, the model prediction will be around 0.5 all the time, which is a local minimum.)\n",
        "  * You can feed multiple inputs to the Model using a list: \n",
        "  model = tf.keras.models.Model(inputs=[input_audio, input_video], outputs=output)\n",
        "\n",
        "* Performance metric:\n",
        "  * Use the 1-Mean Absolute Error (1-MAE) as the evaluation metric.\n",
        "\n",
        "## Extra task (Optional)\n",
        "  * It is an unnormalized metric, and because of the target variables follow a Gaussian distribution, the modell will achieve around 0.88\n",
        "  * Try to beat it, by modifing any part of the task, e.g. subnetworks, input data, configurations, preprocessing steps. (0.89-0.90 is great, between 0.90-0.92 is possible as well)\n",
        "\n",
        "**If you can go over 0.90, +1 is added to the final grade.**\n"
      ]
    },
    {
      "cell_type": "markdown",
      "metadata": {
        "id": "VNygXxrNpPJY"
      },
      "source": [
        "## Additional notes\n",
        "\n",
        "* Do the preprocessing steps offline, create pkl (or npy, hdf5, etc..) files, so you don't have to repeat most of the steps again. Then you can upload it, and train using colab without much struggling.\n",
        "* Use Adam optimizer and a learning rate scheduler.\n",
        "* Check the training curve. If overfitting happens, add more regularization: weight decay (L2: 1e-3, 5e-4, etc...), Dropout, augmentation.\n",
        "\n",
        "## Final steps, evaluation\n",
        "\n",
        "* Plot the training / validation curve.\n",
        "* Plot the '1-MAE' performance metric.\n",
        "* Calculate the coefficient of determination (R^2) regression metric on the train, validation and test sets after training! (Note, that monitoring this metric during training is not advised with small batch size, because it is noisy and misleading.)"
      ]
    }
  ]
}