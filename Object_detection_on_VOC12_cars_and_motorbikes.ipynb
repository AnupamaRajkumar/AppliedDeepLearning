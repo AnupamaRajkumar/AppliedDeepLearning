{
  "nbformat": 4,
  "nbformat_minor": 0,
  "metadata": {
    "colab": {
      "name": "Assignment 1/C -- Object detection on VOC12 cars and motorbikes.ipynb",
      "provenance": [],
      "collapsed_sections": [],
      "toc_visible": true,
      "include_colab_link": true
    },
    "kernelspec": {
      "name": "python3",
      "display_name": "Python 3"
    },
    "accelerator": "GPU"
  },
  "cells": [
    {
      "cell_type": "markdown",
      "metadata": {
        "id": "view-in-github",
        "colab_type": "text"
      },
      "source": [
        "<a href=\"https://colab.research.google.com/github/AnupamaRajkumar/AppliedDeepLearning/blob/master/Object_detection_on_VOC12_cars_and_motorbikes.ipynb\" target=\"_parent\"><img src=\"https://colab.research.google.com/assets/colab-badge.svg\" alt=\"Open In Colab\"/></a>"
      ]
    },
    {
      "cell_type": "markdown",
      "metadata": {
        "id": "Wx1HWNSr5a-H"
      },
      "source": [
        "# Assignment 1/C\n",
        "**Disclaimer: Only for ADL/AML students!**\n",
        "\n",
        "### General information\n",
        "**You have to solve all tasks to pass!** \n",
        "\n",
        "Grade is calculated by the day of the last submission, but you will only get it after you've succesfully presented it. \n",
        "\n",
        "**Deadlines and grades:** \n",
        "  * 2020.09.20 - 2020.10.27 ==> 5\n",
        "  * 2020.10.28 - 2020.11.03 ==> 4\n",
        "  * 2020.10.04 - 2020.11.10 ==> 3\n",
        "  * 2020.11.11 - 2020.11.17 ==> 2\n",
        "  * 2020.11.18 or later ==> 1 \n",
        "\n",
        "You can **use only these** 3rd party **packages:** `cv2, keras, matplotlib, numpy, sklearn, skimage, tensorflow`. (And `torchvision` for dowloading the dataset.)\n",
        "\n",
        "### Description\n",
        "In this assignment you have to build and train a simple car and motorbike detection model using tf.keras. To do so, first we crop the images, the classify each crop one-by-one. For architecture we will use a simple convolutional network.\n",
        "\n",
        "### Use GPU\n",
        "Runtime -> Change runtime type\n",
        "\n",
        "At Hardware accelerator select  GPU then save it.  \n",
        "\n",
        "### Useful shortcuts\n",
        "* Run selected cell: *Ctrl + Enter*\n",
        "* Insert cell below: *Ctrl + M B*\n",
        "* Insert cell above: *Ctrl + M A*\n",
        "* Convert to text: *Ctrl + M M*\n",
        "* Split at cursor: *Ctrl + M -*\n",
        "* Autocomplete: *Ctrl + Space* or *Tab*\n",
        "* Move selected cells up: *Ctrl + M J*\n",
        "* Move selected cells down: *Ctrl + M K*\n",
        "* Delete selected cells: *Ctrl + M D*\n",
        "\n"
      ]
    },
    {
      "cell_type": "markdown",
      "metadata": {
        "id": "Qwfba0if-93A"
      },
      "source": [
        "## Prepare dataset\n",
        "\n",
        "* Download the PascalVOC2012 detection dataset. Here you can find more information about the labels: http://host.robots.ox.ac.uk/pascal/VOC/voc2012/htmldoc/index.html or https://pjreddie.com/media/files/VOC2012_doc.pdf *Hint: you don't need to load the data from scrach, you can iterate over the `data` variable, it will automatically read the image and the label.*\n",
        "* To see some samples, plot 5 random images with their corresponding bounding boxes (bboxes). *Note: it's enough if you just print the bboxes, but you can also visualize them using `cv2.rectangle()`.* \n",
        "* Take an NxN sized crop from the center of each image, where `N = min(height, width); if N % 2 != 0: N -= 1`.\n",
        "* Select only those, that contains cars or motorbikes.\n",
        "* Split the image into 9 overlapping regions with a crop size of `<img_size> // 2` and a stride of `<img_size> // 4`, and classify each of them into 3 categories: `0 -- background, 1 -- motorbike, 2 -- car`.\n",
        "  * if there isn't any (car or motorbike) bbox that overlaps more than by 50% with the crop, then it is a background crop.\n",
        "  * otherwise it is a car/motorbike crop.\n",
        "* Then resize the cropped regions to 64x64.\n",
        "* Split the datasets into train-val-test sets (ratio: 60-20-20), without shuffling.\n",
        "* Print the size of each set and plot 5 training images and their corresponding masks.\n",
        "* Normalize the datasets. Input values should be between -1.0 and 1.0. *Note: you don't have to use standardization, you can just divide them by 255.*\n"
      ]
    },
    {
      "cell_type": "code",
      "metadata": {
        "id": "FUIGrzrZAJ-Z",
        "cellView": "form",
        "colab": {
          "base_uri": "https://localhost:8080/",
          "height": 659
        },
        "outputId": "155b550b-5384-4715-cb60-bb0c5c0e84e7"
      },
      "source": [
        "#@title\n",
        "%%html\n",
        "<p><span style=\"font-family: sans-serif; font-size: 1rem; font-style: italic\">Note: Stride is a step size. For example, if you have a 4x4 image, and you'd like to split it into 9 regions with a crop size of 2 and a stride of 1, then first you'd take the top left 2x2 region</span></p>\n",
        "<table style=\"height: 104px; width: 30%; border-collapse: collapse;\" border=\"1\">\n",
        "<tbody>\n",
        "<tr style=\"height: 26px;\">\n",
        "<td style=\"width: 25%; height: 26px; background: #00f;\"></td>\n",
        "<td style=\"width: 25%; height: 26px; background: #00f;\"></td>\n",
        "<td style=\"width: 25%; height: 26px;\"></td>\n",
        "<td style=\"width: 25%; height: 26px;\"></td>\n",
        "</tr>\n",
        "<tr style=\"height: 26px;\">\n",
        "<td style=\"width: 25%; height: 26px; background: #00f;\"></td>\n",
        "<td style=\"width: 25%; height: 26px; background: #00f;\"></td>\n",
        "<td style=\"width: 25%; height: 26px;\"></td>\n",
        "<td style=\"width: 25%; height: 26px;\"></td>\n",
        "</tr>\n",
        "<tr style=\"height: 26px;\">\n",
        "<td style=\"width: 25%; height: 26px;\"></td>\n",
        "<td style=\"width: 25%; height: 26px;\"></td>\n",
        "<td style=\"width: 25%; height: 26px;\"></td>\n",
        "<td style=\"width: 25%; height: 26px;\"></td>\n",
        "</tr>\n",
        "<tr style=\"height: 26px;\">\n",
        "<td style=\"width: 25%; height: 26px;\"></td>\n",
        "<td style=\"width: 25%; height: 26px;\"></td>\n",
        "<td style=\"width: 25%; height: 26px;\"></td>\n",
        "<td style=\"width: 25%; height: 26px;\"></td>\n",
        "</tr>\n",
        "</tbody>\n",
        "</table>\n",
        "<p><span style=\"font-family: sans-serif; font-size: 1rem; font-style: italic\">Then the top middle 2x2 region</span></p>\n",
        "<table style=\"height: 104px; width: 30%; border-collapse: collapse;\" border=\"1\">\n",
        "<tbody>\n",
        "<tr style=\"height: 26px;\">\n",
        "<td style=\"width: 25%; height: 26px;\"></td>\n",
        "<td style=\"width: 25%; height: 26px; background: #00f;\"></td>\n",
        "<td style=\"width: 25%; height: 26px; background: #00f;\"></td>\n",
        "<td style=\"width: 25%; height: 26px;\"></td>\n",
        "</tr>\n",
        "<tr style=\"height: 26px;\">\n",
        "<td style=\"width: 25%; height: 26px;\"></td>\n",
        "<td style=\"width: 25%; height: 26px; background: #00f;\"></td>\n",
        "<td style=\"width: 25%; height: 26px; background: #00f;\"></td>\n",
        "<td style=\"width: 25%; height: 26px;\"></td>\n",
        "</tr>\n",
        "<tr style=\"height: 26px;\">\n",
        "<td style=\"width: 25%; height: 26px;\"></td>\n",
        "<td style=\"width: 25%; height: 26px;\"></td>\n",
        "<td style=\"width: 25%; height: 26px;\"></td>\n",
        "<td style=\"width: 25%; height: 26px;\"></td>\n",
        "</tr>\n",
        "<tr style=\"height: 26px;\">\n",
        "<td style=\"width: 25%; height: 26px;\"></td>\n",
        "<td style=\"width: 25%; height: 26px;\"></td>\n",
        "<td style=\"width: 25%; height: 26px;\"></td>\n",
        "<td style=\"width: 25%; height: 26px;\"></td>\n",
        "</tr>\n",
        "</tbody>\n",
        "</table>\n",
        "<p><span style=\"font-family: sans-serif; font-size: 1rem; font-style: italic\">Then the top right 2x2 region.</span></p>\n",
        "<table style=\"height: 104px; width: 30%; border-collapse: collapse;\" border=\"1\">\n",
        "<tbody>\n",
        "<tr style=\"height: 26px;\">\n",
        "<td style=\"width: 25%; height: 26px;\"></td>\n",
        "<td style=\"width: 25%; height: 26px;\"></td>\n",
        "<td style=\"width: 25%; height: 26px; background: #00f;\"></td>\n",
        "<td style=\"width: 25%; height: 26px; background: #00f;\"></td>\n",
        "</tr>\n",
        "<tr style=\"height: 26px;\">\n",
        "<td style=\"width: 25%; height: 26px;\"></td>\n",
        "<td style=\"width: 25%; height: 26px;\"></td>\n",
        "<td style=\"width: 25%; height: 26px; background: #00f;\"></td>\n",
        "<td style=\"width: 25%; height: 26px; background: #00f;\"></td>\n",
        "</tr>\n",
        "<tr style=\"height: 26px;\">\n",
        "<td style=\"width: 25%; height: 26px;\"></td>\n",
        "<td style=\"width: 25%; height: 26px;\"></td>\n",
        "<td style=\"width: 25%; height: 26px;\"></td>\n",
        "<td style=\"width: 25%; height: 26px;\"></td>\n",
        "</tr>\n",
        "<tr style=\"height: 26px;\">\n",
        "<td style=\"width: 25%; height: 26px;\"></td>\n",
        "<td style=\"width: 25%; height: 26px;\"></td>\n",
        "<td style=\"width: 25%; height: 26px;\"></td>\n",
        "<td style=\"width: 25%; height: 26px;\"></td>\n",
        "</tr>\n",
        "</tbody>\n",
        "</table>\n",
        "<p><span style=\"font-family: sans-serif; font-size: 1rem; font-style: italic\">Then the middle left 2x2 region.</span></p>\n",
        "<table style=\"height: 104px; width: 30%; border-collapse: collapse;\" border=\"1\">\n",
        "<tbody>\n",
        "<tr style=\"height: 26px;\">\n",
        "<td style=\"width: 25%; height: 26px;\"></td>\n",
        "<td style=\"width: 25%; height: 26px;\"></td>\n",
        "<td style=\"width: 25%; height: 26px;\"></td>\n",
        "<td style=\"width: 25%; height: 26px;\"></td>\n",
        "</tr>\n",
        "<tr style=\"height: 26px;\">\n",
        "<td style=\"width: 25%; height: 26px; background: #00f;\"></td>\n",
        "<td style=\"width: 25%; height: 26px; background: #00f;\"></td>\n",
        "<td style=\"width: 25%; height: 26px;\"></td>\n",
        "<td style=\"width: 25%; height: 26px;\"></td>\n",
        "</tr>\n",
        "<tr style=\"height: 26px;\">\n",
        "<td style=\"width: 25%; height: 26px; background: #00f;\"></td>\n",
        "<td style=\"width: 25%; height: 26px; background: #00f;\"></td>\n",
        "<td style=\"width: 25%; height: 26px;\"></td>\n",
        "<td style=\"width: 25%; height: 26px;\"></td>\n",
        "</tr>\n",
        "<tr style=\"height: 26px;\">\n",
        "<td style=\"width: 25%; height: 26px;\"></td>\n",
        "<td style=\"width: 25%; height: 26px;\"></td>\n",
        "<td style=\"width: 25%; height: 26px;\"></td>\n",
        "<td style=\"width: 25%; height: 26px;\"></td>\n",
        "</tr>\n",
        "</tbody>\n",
        "</table>\n",
        "<p><span style=\"font-family: sans-serif; font-size: 1rem; font-style: italic\">And so on...</span></p>"
      ],
      "execution_count": null,
      "outputs": [
        {
          "output_type": "display_data",
          "data": {
            "text/html": [
              "<p><span style=\"font-family: sans-serif; font-size: 1rem; font-style: italic\">Note: Stride is a step size. For example, if you have a 4x4 image, and you'd like to split it into 9 regions with a crop size of 2 and a stride of 1, then first you'd take the top left 2x2 region</span></p>\n",
              "<table style=\"height: 104px; width: 30%; border-collapse: collapse;\" border=\"1\">\n",
              "<tbody>\n",
              "<tr style=\"height: 26px;\">\n",
              "<td style=\"width: 25%; height: 26px; background: #00f;\"></td>\n",
              "<td style=\"width: 25%; height: 26px; background: #00f;\"></td>\n",
              "<td style=\"width: 25%; height: 26px;\"></td>\n",
              "<td style=\"width: 25%; height: 26px;\"></td>\n",
              "</tr>\n",
              "<tr style=\"height: 26px;\">\n",
              "<td style=\"width: 25%; height: 26px; background: #00f;\"></td>\n",
              "<td style=\"width: 25%; height: 26px; background: #00f;\"></td>\n",
              "<td style=\"width: 25%; height: 26px;\"></td>\n",
              "<td style=\"width: 25%; height: 26px;\"></td>\n",
              "</tr>\n",
              "<tr style=\"height: 26px;\">\n",
              "<td style=\"width: 25%; height: 26px;\"></td>\n",
              "<td style=\"width: 25%; height: 26px;\"></td>\n",
              "<td style=\"width: 25%; height: 26px;\"></td>\n",
              "<td style=\"width: 25%; height: 26px;\"></td>\n",
              "</tr>\n",
              "<tr style=\"height: 26px;\">\n",
              "<td style=\"width: 25%; height: 26px;\"></td>\n",
              "<td style=\"width: 25%; height: 26px;\"></td>\n",
              "<td style=\"width: 25%; height: 26px;\"></td>\n",
              "<td style=\"width: 25%; height: 26px;\"></td>\n",
              "</tr>\n",
              "</tbody>\n",
              "</table>\n",
              "<p><span style=\"font-family: sans-serif; font-size: 1rem; font-style: italic\">Then the top middle 2x2 region</span></p>\n",
              "<table style=\"height: 104px; width: 30%; border-collapse: collapse;\" border=\"1\">\n",
              "<tbody>\n",
              "<tr style=\"height: 26px;\">\n",
              "<td style=\"width: 25%; height: 26px;\"></td>\n",
              "<td style=\"width: 25%; height: 26px; background: #00f;\"></td>\n",
              "<td style=\"width: 25%; height: 26px; background: #00f;\"></td>\n",
              "<td style=\"width: 25%; height: 26px;\"></td>\n",
              "</tr>\n",
              "<tr style=\"height: 26px;\">\n",
              "<td style=\"width: 25%; height: 26px;\"></td>\n",
              "<td style=\"width: 25%; height: 26px; background: #00f;\"></td>\n",
              "<td style=\"width: 25%; height: 26px; background: #00f;\"></td>\n",
              "<td style=\"width: 25%; height: 26px;\"></td>\n",
              "</tr>\n",
              "<tr style=\"height: 26px;\">\n",
              "<td style=\"width: 25%; height: 26px;\"></td>\n",
              "<td style=\"width: 25%; height: 26px;\"></td>\n",
              "<td style=\"width: 25%; height: 26px;\"></td>\n",
              "<td style=\"width: 25%; height: 26px;\"></td>\n",
              "</tr>\n",
              "<tr style=\"height: 26px;\">\n",
              "<td style=\"width: 25%; height: 26px;\"></td>\n",
              "<td style=\"width: 25%; height: 26px;\"></td>\n",
              "<td style=\"width: 25%; height: 26px;\"></td>\n",
              "<td style=\"width: 25%; height: 26px;\"></td>\n",
              "</tr>\n",
              "</tbody>\n",
              "</table>\n",
              "<p><span style=\"font-family: sans-serif; font-size: 1rem; font-style: italic\">Then the top right 2x2 region.</span></p>\n",
              "<table style=\"height: 104px; width: 30%; border-collapse: collapse;\" border=\"1\">\n",
              "<tbody>\n",
              "<tr style=\"height: 26px;\">\n",
              "<td style=\"width: 25%; height: 26px;\"></td>\n",
              "<td style=\"width: 25%; height: 26px;\"></td>\n",
              "<td style=\"width: 25%; height: 26px; background: #00f;\"></td>\n",
              "<td style=\"width: 25%; height: 26px; background: #00f;\"></td>\n",
              "</tr>\n",
              "<tr style=\"height: 26px;\">\n",
              "<td style=\"width: 25%; height: 26px;\"></td>\n",
              "<td style=\"width: 25%; height: 26px;\"></td>\n",
              "<td style=\"width: 25%; height: 26px; background: #00f;\"></td>\n",
              "<td style=\"width: 25%; height: 26px; background: #00f;\"></td>\n",
              "</tr>\n",
              "<tr style=\"height: 26px;\">\n",
              "<td style=\"width: 25%; height: 26px;\"></td>\n",
              "<td style=\"width: 25%; height: 26px;\"></td>\n",
              "<td style=\"width: 25%; height: 26px;\"></td>\n",
              "<td style=\"width: 25%; height: 26px;\"></td>\n",
              "</tr>\n",
              "<tr style=\"height: 26px;\">\n",
              "<td style=\"width: 25%; height: 26px;\"></td>\n",
              "<td style=\"width: 25%; height: 26px;\"></td>\n",
              "<td style=\"width: 25%; height: 26px;\"></td>\n",
              "<td style=\"width: 25%; height: 26px;\"></td>\n",
              "</tr>\n",
              "</tbody>\n",
              "</table>\n",
              "<p><span style=\"font-family: sans-serif; font-size: 1rem; font-style: italic\">Then the middle left 2x2 region.</span></p>\n",
              "<table style=\"height: 104px; width: 30%; border-collapse: collapse;\" border=\"1\">\n",
              "<tbody>\n",
              "<tr style=\"height: 26px;\">\n",
              "<td style=\"width: 25%; height: 26px;\"></td>\n",
              "<td style=\"width: 25%; height: 26px;\"></td>\n",
              "<td style=\"width: 25%; height: 26px;\"></td>\n",
              "<td style=\"width: 25%; height: 26px;\"></td>\n",
              "</tr>\n",
              "<tr style=\"height: 26px;\">\n",
              "<td style=\"width: 25%; height: 26px; background: #00f;\"></td>\n",
              "<td style=\"width: 25%; height: 26px; background: #00f;\"></td>\n",
              "<td style=\"width: 25%; height: 26px;\"></td>\n",
              "<td style=\"width: 25%; height: 26px;\"></td>\n",
              "</tr>\n",
              "<tr style=\"height: 26px;\">\n",
              "<td style=\"width: 25%; height: 26px; background: #00f;\"></td>\n",
              "<td style=\"width: 25%; height: 26px; background: #00f;\"></td>\n",
              "<td style=\"width: 25%; height: 26px;\"></td>\n",
              "<td style=\"width: 25%; height: 26px;\"></td>\n",
              "</tr>\n",
              "<tr style=\"height: 26px;\">\n",
              "<td style=\"width: 25%; height: 26px;\"></td>\n",
              "<td style=\"width: 25%; height: 26px;\"></td>\n",
              "<td style=\"width: 25%; height: 26px;\"></td>\n",
              "<td style=\"width: 25%; height: 26px;\"></td>\n",
              "</tr>\n",
              "</tbody>\n",
              "</table>\n",
              "<p><span style=\"font-family: sans-serif; font-size: 1rem; font-style: italic\">And so on...</span></p>"
            ],
            "text/plain": [
              "<IPython.core.display.HTML object>"
            ]
          },
          "metadata": {
            "tags": []
          }
        }
      ]
    },
    {
      "cell_type": "code",
      "metadata": {
        "id": "BsnF6rXiiQJl"
      },
      "source": [
        "pip install torch===1.4.0 torchvision===0.5.0 -f https://download.pytorch.org/whl/torch_stable.html"
      ],
      "execution_count": null,
      "outputs": []
    },
    {
      "cell_type": "code",
      "metadata": {
        "id": "D5-lW2igX-LS"
      },
      "source": [
        "!mkdir -p ./voc2012\n",
        "\n",
        "# Download from Drive\n",
        "!if ! [ -f ./voc2012/VOCtrainval_11-May-2012.tar ]; then curl -c ./cookie -s -L \"https://drive.google.com/uc?export=download&id=19Mh6P8sXJzD_j0O2AN_StB2fbqBXJNWA\" > /dev/null; curl -Lb ./cookie \"https://drive.google.com/uc?export=download&confirm=`awk '/download/ {print $NF}' ./cookie`&id=19Mh6P8sXJzD_j0O2AN_StB2fbqBXJNWA\" -o ./voc2012/VOCtrainval_11-May-2012.tar; fi\n",
        "\n",
        "# Check if the file size is correct (~1.86GB)\n",
        "!if (( $(stat -c%s ./voc2012/VOCtrainval_11-May-2012.tar) < 1999639040 )); then rm -rfd ./voc2012/VOCtrainval_11-May-2012.tar; fi\n",
        "\n",
        "# If not, download it from NIPG12\n",
        "!wget -nc -O ./voc2012/VOCtrainval_11-May-2012.tar http://nipg1.inf.elte.hu:8000/VOCtrainval_11-May-2012.tar"
      ],
      "execution_count": null,
      "outputs": []
    },
    {
      "cell_type": "code",
      "metadata": {
        "id": "ZwRGPNi0iQoQ"
      },
      "source": [
        "import cv2\n",
        "import matplotlib.pyplot as plt\n",
        "import numpy as np\n",
        "import skimage\n",
        "import sklearn\n",
        "import torchvision\n",
        "\n",
        "data = torchvision.datasets.VOCDetection('./voc2012/', year='2012', image_set='trainval', download=True)"
      ],
      "execution_count": null,
      "outputs": []
    },
    {
      "cell_type": "markdown",
      "metadata": {
        "id": "AaB2OHsaYqj8"
      },
      "source": [
        "## Data augmentation\n",
        "  * Augment the training set using `ImageDataGenerator`. The parameters should be the following: `featurewise_center=False, featurewise_std_normalization=False, rotation_range=90., width_shift_range=0.1, height_shift_range=0.1, zoom_range=0.2, horizontal_flip=True`.\n",
        "  * When creating the generator(s), use shuffling with a seed value of 1 and batch size of 32.\n",
        "  * To validate that the augmentation is working, plot 5 original images with their corresponding transformed (augmented) images and labels.\n"
      ]
    },
    {
      "cell_type": "markdown",
      "metadata": {
        "id": "Ui3_jaq2XcW5"
      },
      "source": [
        "## Define the model\n",
        "Define the following convolutional network:\n",
        "* It has 6 conv layers with 3x3 kernes\n",
        "* Filter sizes are 32, 32, 64, 64, 256, 256 (in this order)\n",
        "* The 1., 3. and 5. layers are padded such that the output is the same as the input\n",
        "* After every convolution comes a BatchNormalisation and ReLU activation layer\n",
        "* After every second convolution comes a MaxPool layer with 2x2 pool size and a Dropout layer with rate 20%\n",
        "* After the last convolutional layer add a GlobalAveragePooling2D layer and a final dense layer\n",
        "* For optimizer use Adam, and add accuracy to the metrics. *Note: For multi-class classification tasks, use cross-entropy loss.*"
      ]
    },
    {
      "cell_type": "code",
      "metadata": {
        "id": "zQYj-7YuiT8w"
      },
      "source": [
        "%tensorflow_version 2.x\n",
        "import tensorflow as tf\n",
        "from tensorflow.keras.models import *\n",
        "from tensorflow.keras.layers import *\n",
        "from tensorflow.keras.callbacks import *"
      ],
      "execution_count": null,
      "outputs": []
    },
    {
      "cell_type": "code",
      "metadata": {
        "id": "Ad9c6GsZatH9"
      },
      "source": [
        "def classnet(input_size=(64, 64, 3)):\n",
        "  pass\n",
        "\n",
        "model = classnet(input_size=(64, 64, 3))\n",
        "model.summary()"
      ],
      "execution_count": null,
      "outputs": []
    },
    {
      "cell_type": "markdown",
      "metadata": {
        "id": "Fkj5OLXrHGqK"
      },
      "source": [
        "## Training and evaluation \n",
        "  * Train the model for 50 epochs and use early stopping with patience of 10.\n",
        "  * Plot the training curve (train/validation loss and train/validation accuracy).\n",
        "  * Evaluate the trained model on the test set and plot some (5) predictions with their corresponding GT labels.\n",
        "  * Print the classification report and the multilabel confusion matrix. *Note: check out the following functions: `sklearn.metrics.classification_report` and `sklearn.metrics.multilabel_confusion_matrix`*\n"
      ]
    }
  ]
}